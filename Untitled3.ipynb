{
 "cells": [
  {
   "cell_type": "code",
   "execution_count": null,
   "metadata": {},
   "outputs": [
    {
     "name": "stdout",
     "output_type": "stream",
     "text": [
      "I've though a number between 1 and 100!\n"
     ]
    }
   ],
   "source": [
    "import random\n",
    " \n",
    "n = random.randrange(1, 101)\n",
    "print('I\\'ve though a number between 1 and 100!')\n",
    " \n",
    "while True:\n",
    "    try:\n",
    "        g = input('Guess!')\n",
    "        g = int(g)\n",
    "        if not 100 > g > 0:\n",
    "            print('It\\'s in between 0 and 100!')\n",
    "    except ValueError:\n",
    "        print('Enter an integer')\n",
    "        continue\n",
    " \n",
    "    if g == n:\n",
    "        print('Congratulations!')\n",
    "        break\n",
    " \n",
    "    if g < n:\n",
    "        print('Larger')\n",
    " \n",
    "    if g > n:\n",
    "        print('Smaller')"
   ]
  },
  {
   "cell_type": "code",
   "execution_count": null,
   "metadata": {},
   "outputs": [],
   "source": []
  },
  {
   "cell_type": "code",
   "execution_count": null,
   "metadata": {},
   "outputs": [],
   "source": []
  }
 ],
 "metadata": {
  "kernelspec": {
   "display_name": "Python 3",
   "language": "python",
   "name": "python3"
  },
  "language_info": {
   "codemirror_mode": {
    "name": "ipython",
    "version": 3
   },
   "file_extension": ".py",
   "mimetype": "text/x-python",
   "name": "python",
   "nbconvert_exporter": "python",
   "pygments_lexer": "ipython3",
   "version": "3.6.4"
  }
 },
 "nbformat": 4,
 "nbformat_minor": 2
}
