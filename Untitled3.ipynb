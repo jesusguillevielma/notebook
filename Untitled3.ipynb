{
 "cells": [
  {
   "cell_type": "code",
   "execution_count": 1,
   "metadata": {},
   "outputs": [
    {
     "name": "stdout",
     "output_type": "stream",
     "text": [
      "I've though a number between 1 and 100!\n",
      "Guess!1\n",
      "Larger\n",
      "Guess!60\n",
      "Smaller\n",
      "Guess!50\n",
      "Smaller\n",
      "Guess!40\n",
      "Smaller\n",
      "Guess!20\n",
      "Smaller\n",
      "Guess!10\n",
      "Larger\n",
      "Guess!15\n",
      "Larger\n",
      "Guess!16\n",
      "Larger\n",
      "Guess!17\n",
      "Larger\n",
      "Guess!19\n",
      "Smaller\n",
      "Guess!18\n",
      "Congratulations!\n"
     ]
    }
   ],
   "source": [
    "import random\n",
    " \n",
    "n = random.randrange(1, 101)\n",
    "print('I\\'ve though a number between 1 and 100!')\n",
    " \n",
    "while True:\n",
    "    try:\n",
    "        g = input('Guess!')\n",
    "        g = int(g)\n",
    "        if not 100 > g > 0:\n",
    "            print('It\\'s in between 0 and 100!')\n",
    "    except ValueError:\n",
    "        print('Enter an integer')\n",
    "        continue\n",
    " \n",
    "    if g == n:\n",
    "        print('Congratulations!')\n",
    "        break\n",
    " \n",
    "    if g < n:\n",
    "        print('Larger')\n",
    " \n",
    "    if g > n:\n",
    "        print('Smaller')"
   ]
  },
  {
   "cell_type": "code",
   "execution_count": null,
   "metadata": {},
   "outputs": [],
   "source": []
  },
  {
   "cell_type": "code",
   "execution_count": null,
   "metadata": {},
   "outputs": [],
   "source": []
  }
 ],
 "metadata": {
  "kernelspec": {
   "display_name": "Python 3",
   "language": "python",
   "name": "python3"
  },
  "language_info": {
   "codemirror_mode": {
    "name": "ipython",
    "version": 3
   },
   "file_extension": ".py",
   "mimetype": "text/x-python",
   "name": "python",
   "nbconvert_exporter": "python",
   "pygments_lexer": "ipython3",
   "version": "3.6.4"
  }
 },
 "nbformat": 4,
 "nbformat_minor": 2
}
