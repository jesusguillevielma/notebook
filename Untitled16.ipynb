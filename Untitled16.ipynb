{
 "cells": [
  {
   "cell_type": "code",
   "execution_count": 58,
   "metadata": {},
   "outputs": [],
   "source": [
    "import requests"
   ]
  },
  {
   "cell_type": "code",
   "execution_count": 59,
   "metadata": {},
   "outputs": [],
   "source": [
    "from bs4 import BeautifulSoup"
   ]
  },
  {
   "cell_type": "code",
   "execution_count": 60,
   "metadata": {},
   "outputs": [
    {
     "data": {
      "text/plain": [
       "<Response [200]>"
      ]
     },
     "execution_count": 60,
     "metadata": {},
     "output_type": "execute_result"
    }
   ],
   "source": [
    "page = requests.get('https://web.archive.org/web/20121007172955/https://www.nga.gov/collection/anZ1.htm')\n",
    "page"
   ]
  },
  {
   "cell_type": "code",
   "execution_count": 61,
   "metadata": {},
   "outputs": [],
   "source": [
    "soup = BeautifulSoup(page.text,'html.parser')"
   ]
  },
  {
   "cell_type": "code",
   "execution_count": 62,
   "metadata": {},
   "outputs": [],
   "source": [
    "table = soup.findAll('table')"
   ]
  },
  {
   "cell_type": "code",
   "execution_count": 63,
   "metadata": {},
   "outputs": [
    {
     "name": "stdout",
     "output_type": "stream",
     "text": [
      "['Zabaglia, Niccola', 'Italian, 1664 - 1750']\n",
      "['Zaccone, Fabian', 'American, 1910 - 1992']\n",
      "['Zadkine, Ossip', 'French, 1890 - 1967']\n",
      "['Zaech, Bernhard', 'German, active c. 1650']\n",
      "['Zagar, Jacob', 'Flemish, c. 1530 - after 1580']\n",
      "['Zagroba, Idalia', 'Polish, born 1967']\n",
      "['Zaidenberg, A.', 'American, active c. 1935']\n",
      "['Zaidenberg, Arthur', 'American, 1903 - 1990']\n",
      "['Zaisinger, Matthäus', 'German, active c. 1500']\n",
      "['Zajac, Jack', 'American, born 1929']\n",
      "['Zak, Eugène', 'Polish, 1884 - 1926']\n",
      "['Zakharov, Gurii Fillipovich', 'Russian, born 1926']\n",
      "['Zakowortny, Igor', '']\n",
      "['Zalce, Alfredo', 'Mexican, born 1908']\n",
      "['Zalopany, Michele', 'American, born 1955']\n",
      "['Zammiello, Craig', '']\n",
      "['Zammitt, Norman', 'American, born 1931']\n",
      "['Zampieri, Domenico', 'Italian, 1581 - 1641']\n",
      "['Zampieri, called Domenichino, Domenico', 'Italian, 1581 - 1641']\n",
      "['Zanartú, Enrique Antunez', 'Chilean, born 1921']\n",
      "['Zanchi, Antonio', 'Italian, 1631 - 1722']\n",
      "['Zanetti, Anton Maria', 'Italian, 1679/1680 - 1767']\n",
      "['Zanetti Borzino, Leopoldina', 'Italian, 1826 - 1902']\n",
      "['Zanetti I, Antonio Maria, conte', 'Italian, 1680 - 1757']\n",
      "['Zanguidi, Jacopo', 'Italian, 1544 - 1573/1574']\n",
      "['Zanini, Giuseppe', 'Italian, c. 1599 - 1631']\n",
      "['Zanini-Viola, Giuseppe', 'Italian, c. 1599 - 1631']\n",
      "['Zanotti, Giampietro', 'Italian, 1674 - 1765']\n",
      "['Zao Wou-Ki', 'French, born 1921']\n"
     ]
    }
   ],
   "source": [
    "table = table[1]\n",
    "table\n",
    "for row in table.findAll('tr'):\n",
    "    new_row = []\n",
    "    for cell in row.findAll('td'):\n",
    "        new_row.append(cell.get_text())\n",
    "    print(new_row)"
   ]
  },
  {
   "cell_type": "code",
   "execution_count": 56,
   "metadata": {},
   "outputs": [
    {
     "name": "stdout",
     "output_type": "stream",
     "text": [
      "/web/20121007172955/https://www.nga.gov/home.htm\n",
      "/web/20121007172955/https://www.nga.gov/highlights/index.shtm\n",
      "https://web.archive.org/web/20121007172955/http://subscribe.nga.gov/subscription_form_ngart.cfm\n",
      "/web/20121007172955/https://www.nga.gov/programs/calendar/\n",
      "/web/20121007172955/https://www.nga.gov/collection/acquisitioninfo.shtm\n",
      "/web/20121007172955/https://www.nga.gov/podcasts/index.shtm\n",
      "/web/20121007172955/https://www.nga.gov/ginfo/aboutnga.shtm\n",
      "/web/20121007172955/https://www.nga.gov/exhibitions/shockinfo.shtm\n",
      "/web/20121007172955/https://www.nga.gov/exhibitions/bellowsinfo.shtm\n",
      "/web/20121007172955/https://www.nga.gov/collection/index.shtm\n",
      "/web/20121007172955/https://www.nga.gov/exhibitions/index.shtm\n",
      "/web/20121007172955/https://www.nga.gov/ginfo/index.shtm\n",
      "/web/20121007172955/https://www.nga.gov/programs/index.shtm\n",
      "/web/20121007172955/https://www.nga.gov/onlinetours/index.shtm\n",
      "/web/20121007172955/https://www.nga.gov/education/index.shtm\n",
      "/web/20121007172955/https://www.nga.gov/resources/index.shtm\n",
      "https://web.archive.org/web/20121007172955/http://shop.nga.gov/\n",
      "/web/20121007172955/https://www.nga.gov/support/index.shtm\n",
      "https://web.archive.org/web/20121007172955/https://images.nga.gov/en/page/show_home_page.html\n",
      "/web/20121007172955/https://www.nga.gov/kids/kids.htm\n",
      "/web/20121007172955/https://www.nga.gov/cgi-bin/tsearch?artistid=11630\n",
      "/web/20121007172955/https://www.nga.gov/cgi-bin/tsearch?artistid=34202\n",
      "/web/20121007172955/https://www.nga.gov/cgi-bin/tsearch?artistid=3475\n",
      "/web/20121007172955/https://www.nga.gov/cgi-bin/tsearch?artistid=25135\n",
      "/web/20121007172955/https://www.nga.gov/cgi-bin/tsearch?artistid=2298\n",
      "/web/20121007172955/https://www.nga.gov/cgi-bin/tsearch?artistid=23988\n",
      "/web/20121007172955/https://www.nga.gov/cgi-bin/tsearch?artistid=8232\n",
      "/web/20121007172955/https://www.nga.gov/cgi-bin/tsearch?artistid=34154\n",
      "/web/20121007172955/https://www.nga.gov/cgi-bin/tsearch?artistid=4910\n",
      "/web/20121007172955/https://www.nga.gov/cgi-bin/tsearch?artistid=3450\n",
      "/web/20121007172955/https://www.nga.gov/cgi-bin/tsearch?artistid=1986\n",
      "/web/20121007172955/https://www.nga.gov/cgi-bin/tsearch?artistid=3451\n",
      "/web/20121007172955/https://www.nga.gov/cgi-bin/tsearch?artistid=20099\n",
      "/web/20121007172955/https://www.nga.gov/cgi-bin/tsearch?artistid=3452\n",
      "/web/20121007172955/https://www.nga.gov/cgi-bin/tsearch?artistid=34309\n",
      "/web/20121007172955/https://www.nga.gov/cgi-bin/tsearch?artistid=27191\n",
      "/web/20121007172955/https://www.nga.gov/cgi-bin/tsearch?artistid=5846\n",
      "/web/20121007172955/https://www.nga.gov/cgi-bin/tsearch?artistid=3941\n",
      "/web/20121007172955/https://www.nga.gov/cgi-bin/tsearch?artistid=3941\n",
      "/web/20121007172955/https://www.nga.gov/cgi-bin/tsearch?artistid=3453\n",
      "/web/20121007172955/https://www.nga.gov/cgi-bin/tsearch?artistid=35173\n",
      "/web/20121007172955/https://www.nga.gov/cgi-bin/tsearch?artistid=11133\n",
      "/web/20121007172955/https://www.nga.gov/cgi-bin/tsearch?artistid=3455\n",
      "/web/20121007172955/https://www.nga.gov/cgi-bin/tsearch?artistid=3454\n",
      "/web/20121007172955/https://www.nga.gov/cgi-bin/tsearch?artistid=961\n",
      "/web/20121007172955/https://www.nga.gov/cgi-bin/tsearch?artistid=11597\n",
      "/web/20121007172955/https://www.nga.gov/cgi-bin/tsearch?artistid=11597\n",
      "/web/20121007172955/https://www.nga.gov/cgi-bin/tsearch?artistid=11631\n",
      "/web/20121007172955/https://www.nga.gov/cgi-bin/tsearch?artistid=3427\n",
      "/web/20121007172955/https://www.nga.gov/collection/anZ2.htm\n",
      "/web/20121007172955/https://www.nga.gov/collection/anZ3.htm\n",
      "/web/20121007172955/https://www.nga.gov/collection/anZ4.htm\n",
      "/web/20121007172955/https://www.nga.gov/help/index.shtm\n",
      "/web/20121007172955/https://www.nga.gov/search/index.shtm\n",
      "/web/20121007172955/https://www.nga.gov/copyright/toc.shtm\n",
      "/web/20121007172955/https://www.nga.gov/xio/phone.shtm\n",
      "/web/20121007172955/https://www.nga.gov/xio/privacy.shtm\n",
      "/web/20121007172955/https://www.nga.gov/copyright/index.shtm\n",
      "/web/20121007172955/https://www.nga.gov/press/index.shtm\n",
      "https://web.archive.org/web/20121007172955/http://images.nga.gov/\n",
      "/web/20121007172955/https://www.nga.gov/home.htm\n",
      "https://web.archive.org/web/20121007172955/http://www.facebook.com/nationalgalleryofart\n",
      "https://web.archive.org/web/20121007172955/https://twitter.com/#!/@ngadc\n",
      "/web/20121007172955/https://www.nga.gov/copyright/index.shtm\n"
     ]
    }
   ],
   "source": [
    "import requests\n",
    "from bs4 import BeautifulSoup\n",
    "page = requests.get('https://web.archive.org/web/20121007172955/https://www.nga.gov/collection/anZ1.htm')\n",
    "\n",
    "soup = BeautifulSoup(page.text, 'html.parser')\n",
    "t = soup.findAll('a')\n",
    "for tag in t:\n",
    "    print(tag.get('href'))"
   ]
  },
  {
   "cell_type": "code",
   "execution_count": null,
   "metadata": {},
   "outputs": [],
   "source": []
  }
 ],
 "metadata": {
  "kernelspec": {
   "display_name": "Python 3",
   "language": "python",
   "name": "python3"
  },
  "language_info": {
   "codemirror_mode": {
    "name": "ipython",
    "version": 3
   },
   "file_extension": ".py",
   "mimetype": "text/x-python",
   "name": "python",
   "nbconvert_exporter": "python",
   "pygments_lexer": "ipython3",
   "version": "3.6.4"
  }
 },
 "nbformat": 4,
 "nbformat_minor": 2
}
