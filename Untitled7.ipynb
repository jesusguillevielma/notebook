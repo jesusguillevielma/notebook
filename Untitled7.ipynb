{
 "cells": [
  {
   "cell_type": "code",
   "execution_count": 28,
   "metadata": {},
   "outputs": [
    {
     "name": "stdout",
     "output_type": "stream",
     "text": [
      "['', 'Date(Click for Detail)', '', 'Winning Numbers(5 Numbers + Mega Ball)', '', 'Megaplier', '', 'Jackpot', '']\n",
      "['', 'Friday, July 27, 2018', '', '01 · 32 · 40 · 49 · 63\\xa0 \\xa0 + 20', '', '3', '', '$40 Million', '']\n",
      "['', 'Tuesday, July 24, 2018', '', '01 · 02 · 04 · 19 · 29\\xa0 \\xa0 + 20', '', '3', '', '$543 Million', '']\n",
      "['', 'Friday, July 20, 2018', '', '01 · 14 · 30 · 44 · 62\\xa0 \\xa0 + 01', '', '2', '', '$433 Million', '']\n",
      "['', 'Tuesday, July 17, 2018', '', '40 · 41 · 61 · 66 · 67\\xa0 \\xa0 + 12', '', '5', '', '$375 Million', '']\n",
      "['', 'Friday, July 13, 2018', '', '21 · 22 · 39 · 59 · 68\\xa0 \\xa0 + 02', '', '2', '', '$340 Million', '']\n",
      "['', 'Tuesday, July 10, 2018', '', '01 · 17 · 28 · 56 · 70\\xa0 \\xa0 + 14', '', '3', '', '$306 Million', '']\n",
      "['', 'Friday, July 6, 2018', '', '02 · 10 · 46 · 50 · 56\\xa0 \\xa0 + 16', '', '3', '', '$283 Million', '']\n",
      "['', 'Tuesday, July 3, 2018', '', '13 · 35 · 45 · 49 · 68\\xa0 \\xa0 + 23', '', '2', '', '$256 Million', '']\n",
      "['', 'Friday, June 29, 2018', '', '02 · 32 · 47 · 49 · 68\\xa0 \\xa0 + 23', '', '4', '', '$232 Million', '']\n",
      "['', 'Tuesday, June 26, 2018', '', '17 · 25 · 29 · 39 · 60\\xa0 \\xa0 + 19', '', '2', '', '$212 Million', '']\n",
      "['', 'Friday, June 22, 2018', '', '02 · 06 · 11 · 27 · 44\\xa0 \\xa0 + 20', '', '2', '', '$192 Million', '']\n",
      "['', 'Tuesday, June 19, 2018', '', '11 · 13 · 28 · 65 · 70\\xa0 \\xa0 + 14', '', '3', '', '$175 Million', '']\n",
      "['', 'Friday, June 15, 2018', '', '01 · 11 · 37 · 47 · 51\\xa0 \\xa0 + 06', '', '2', '', '$161 Million', '']\n",
      "['', 'Tuesday, June 12, 2018', '', '01 · 03 · 05 · 08 · 70\\xa0 \\xa0 + 03', '', '2', '', '$144 Million', '']\n",
      "['', 'Friday, June 8, 2018', '', '14 · 30 · 33 · 44 · 56\\xa0 \\xa0 + 13', '', '2', '', '$127 Million', '']\n",
      "['', 'Tuesday, June 5, 2018', '', '22 · 33 · 41 · 48 · 52\\xa0 \\xa0 + 04', '', '2', '', '$110 Million', '']\n",
      "['', 'Friday, June 1, 2018', '', '05 · 24 · 52 · 62 · 66\\xa0 \\xa0 + 17', '', '3', '', '$97 Million', '']\n",
      "['', 'Tuesday, May 29, 2018', '', '02 · 11 · 55 · 58 · 67\\xa0 \\xa0 + 02', '', '3', '', '$84 Million', '']\n",
      "['', 'Friday, May 25, 2018', '', '11 · 14 · 51 · 64 · 68\\xa0 \\xa0 + 25', '', '4', '', '$73 Million', '']\n",
      "['', 'Tuesday, May 22, 2018', '', '16 · 17 · 21 · 36 · 48\\xa0 \\xa0 + 09', '', '3', '', '$60 Million', '']\n",
      "['', 'Friday, May 18, 2018', '', '09 · 26 · 53 · 64 · 66\\xa0 \\xa0 + 11', '', '2', '', '$55 Million', '']\n",
      "['', 'Tuesday, May 15, 2018', '', '21 · 34 · 44 · 49 · 61\\xa0 \\xa0 + 21', '', '2', '', '$50 Million', '']\n",
      "['', 'Friday, May 11, 2018', '', '14 · 38 · 40 · 53 · 70\\xa0 \\xa0 + 22', '', '3', '', '$45 Million', '']\n",
      "['', 'Tuesday, May 8, 2018', '', '08 · 15 · 39 · 64 · 67\\xa0 \\xa0 + 13', '', '2', '', '$40 Million', '']\n",
      "['', 'Friday, May 4, 2018', '', '04 · 05 · 10 · 12 · 18\\xa0 \\xa0 + 21', '', '4', '', '$143 Million', '']\n",
      "['', 'Tuesday, May 1, 2018', '', '02 · 07 · 20 · 55 · 70\\xa0 \\xa0 + 01', '', '4', '', '$126 Million', '']\n",
      "['SearchNext Page >Last >|', '', '', 'Search', 'Next Page >', 'Last >|']\n",
      "['', '', 'Search', 'Next Page >', 'Last >|']\n"
     ]
    }
   ],
   "source": [
    "\n",
    "import requests\n",
    "from bs4 import BeautifulSoup\n",
    "\n",
    "page = requests.get(\"https://www.usamega.com/mega-millions-history.asp?p=1\")\n",
    "page\n",
    "\n",
    "soup = BeautifulSoup(page.text,'html.parser')\n",
    "\n",
    "\n",
    "table = soup.findAll('table')\n",
    "\n",
    "table = table[4]\n",
    "table\n",
    "for row in table.findAll('tr'):\n",
    "    new_row= []\n",
    "    for cell in row.findAll('td'):\n",
    "        new_row.append(cell.get_text().strip())\n",
    "    print(new_row)\n",
    "    \n",
    "    \n",
    "    \n",
    "    \n",
    "    "
   ]
  },
  {
   "cell_type": "code",
   "execution_count": null,
   "metadata": {},
   "outputs": [],
   "source": []
  }
 ],
 "metadata": {
  "kernelspec": {
   "display_name": "Python 3",
   "language": "python",
   "name": "python3"
  },
  "language_info": {
   "codemirror_mode": {
    "name": "ipython",
    "version": 3
   },
   "file_extension": ".py",
   "mimetype": "text/x-python",
   "name": "python",
   "nbconvert_exporter": "python",
   "pygments_lexer": "ipython3",
   "version": "3.6.4"
  }
 },
 "nbformat": 4,
 "nbformat_minor": 2
}
