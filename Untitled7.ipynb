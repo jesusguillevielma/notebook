{
 "cells": [
  {
   "cell_type": "code",
   "execution_count": 3,
   "metadata": {},
   "outputs": [
    {
     "name": "stdout",
     "output_type": "stream",
     "text": [
      "[]\n",
      "['Capitalización', '616.665']\n",
      "['Rent. dividendo', '3,13\\n%']\n",
      "['Per medio 2017', '16.97']\n",
      "['Revalorización anual', '-1,55']\n"
     ]
    }
   ],
   "source": [
    "\n",
    "import requests\n",
    "from bs4 import BeautifulSoup\n",
    "\n",
    "page = requests.get(\"http://www.expansion.com/mercados/cotizaciones/indices/ibex35_I.IB.html\")\n",
    "page\n",
    "\n",
    "soup = BeautifulSoup(page.text,'html.parser')\n",
    "\n",
    "\n",
    "table = soup.findAll('table')\n",
    "\n",
    "table = table[2]\n",
    "table\n",
    "for row in table.findAll('tr'):\n",
    "    new_row= []\n",
    "    for cell in row.findAll('td'):\n",
    "        new_row.append(cell.get_text().strip())\n",
    "    print(new_row)"
   ]
  },
  {
   "cell_type": "code",
   "execution_count": null,
   "metadata": {},
   "outputs": [],
   "source": []
  }
 ],
 "metadata": {
  "kernelspec": {
   "display_name": "Python 3",
   "language": "python",
   "name": "python3"
  },
  "language_info": {
   "codemirror_mode": {
    "name": "ipython",
    "version": 3
   },
   "file_extension": ".py",
   "mimetype": "text/x-python",
   "name": "python",
   "nbconvert_exporter": "python",
   "pygments_lexer": "ipython3",
   "version": "3.6.4"
  }
 },
 "nbformat": 4,
 "nbformat_minor": 2
}
