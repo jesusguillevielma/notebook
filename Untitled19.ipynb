{
 "cells": [
  {
   "cell_type": "code",
   "execution_count": 42,
   "metadata": {},
   "outputs": [],
   "source": [
    "import requests"
   ]
  },
  {
   "cell_type": "code",
   "execution_count": 43,
   "metadata": {},
   "outputs": [],
   "source": [
    "from bs4 import BeautifulSoup"
   ]
  },
  {
   "cell_type": "code",
   "execution_count": 44,
   "metadata": {},
   "outputs": [
    {
     "data": {
      "text/plain": [
       "<Response [200]>"
      ]
     },
     "execution_count": 44,
     "metadata": {},
     "output_type": "execute_result"
    }
   ],
   "source": [
    "page = requests.get('http://www.espn.com/college-sports/football/recruiting/databaseresults/_/sportid/24/class/2006/sort/school/starsfilter/GT/ratingfilter/GT/statuscommit/Commitments/statusuncommit/Uncommited')\n",
    "\n",
    "page"
   ]
  },
  {
   "cell_type": "code",
   "execution_count": 45,
   "metadata": {},
   "outputs": [],
   "source": [
    "soup = BeautifulSoup(page.text,'html.parser')"
   ]
  },
  {
   "cell_type": "code",
   "execution_count": 46,
   "metadata": {},
   "outputs": [],
   "source": [
    "table = soup.findAll('table')"
   ]
  },
  {
   "cell_type": "code",
   "execution_count": 47,
   "metadata": {},
   "outputs": [
    {
     "name": "stdout",
     "output_type": "stream",
     "text": [
      "['NAME', 'HOMETOWN', 'POS', 'STARS', 'GRADE', 'SCHOOL']\n",
      "['Jermaine WilliamsVideo | Scouts Report', 'Phoenix, AZMaryvale High School', 'DE', '', '80', 'Signed']\n",
      "['Justin TryonVideo | Scouts Report', 'Palmdale, CA', 'CB(JC)', '', 'NR', 'Signed']\n",
      "['Garrett JudahVideo | Scouts Report', 'Beaverton, OR', 'OLB(JC)', '', 'NR', 'Signed']\n",
      "['Lance EvbuomwanVideo | Scouts Report', 'Redlands, CARedlands East Valley High School', 'TE', '', 'NR', 'Signed']\n",
      "['Chris BaloneyVideo | Scouts Report', 'Houston, TX', 'CB(JC)', '', 'NR', 'Signed']\n",
      "['Jeff BereuterVideo | Scouts Report', 'Irving, TXMacArthur High School', 'ILB', '', '73', 'Signed']\n",
      "['Saia FalaholaVideo | Scouts Report', 'Euless, TXTrinity High School', 'OG', '', 'NR', 'Signed']\n",
      "['Zach NiusuluVideo | Scouts Report', 'Barstow, CABarstow High School', 'DT', '', 'NR', 'Signed']\n",
      "['Angelo RichardsonVideo | Scouts Report', 'Danville, CA', 'WR(JC)', '', 'NR', 'Signed']\n",
      "['Jon HargisVideo | Scouts Report', 'Mesa, AZRed Mountain High School', 'DT', '', '73', 'Signed']\n",
      "['Rodney GlassVideo | Scouts Report', 'Sherman Oaks, CANotre Dame High School', 'RB', '', '77', 'Signed']\n",
      "['Ryan McFoyVideo | Scouts Report', 'Chino, CAChino High School', 'S', '', '78', 'Signed']\n",
      "['Andrew BerryhillVideo | Scouts Report', 'Tucson, AZSalpointe Catholic High School', 'TE', '', 'NR', 'Committed']\n",
      "['Kyle WilliamsVideo | Scouts Report', 'Scottsdale, AZChaparral High School', 'RB', '', '70', 'Signed']\n",
      "['Martin TevaseuVideo | Scouts Report', 'Boonville, CA', 'DT(JC)', '', 'NR', 'Signed']\n",
      "['Jamarr RobinsonVideo | Scouts Report', 'Fairfield, CAFairfield High School', 'ILB', '', '75', 'Signed']\n",
      "['Danny SullivanVideo | Scouts Report', 'Los Gatos, CALos Gatos High School', 'QB', '', 'NR', 'Signed']\n",
      "['Ryan TorainVideo | Scouts Report', 'Shawnee Mission, KS', 'RB(JC)', '', 'NR', 'Signed']\n",
      "['Brantwon BowserVideo | Scouts Report', 'Phoenix, AZMaryvale High School', 'CB', '', 'NR', 'Signed']\n",
      "['Gerald MunnsVideo | Scouts Report', 'Queen Creek, AZHamilton High School', 'ILB', '', '72', 'Signed']\n",
      "['Dimitri NanceVideo | Scouts Report', 'Euless, TXTrinity High School', 'RB', '', '74', 'Signed']\n",
      "['Troy NolanVideo | Scouts Report', 'Los Angeles, CA', 'S(JC)', '', 'NR', 'Signed']\n",
      "['Jonathan JohnsonVideo | Scouts Report', 'Simi Valley, CA', 'K(JC)', '', 'NR', 'Signed']\n",
      "[\"Alex Fa'agaiVideo | Scouts Report\", 'San Jose, CA', 'DE(JC)', '', 'NR', 'Signed']\n",
      "['Travis GoethelVideo | Scouts Report', 'Vista, CAVista High School', 'ILB', '', '77', 'Signed']\n",
      "['Drew HiltonVideo | Scouts Report', 'Batesville, ARBatesville High School', 'OG', '', '68', 'Signed']\n",
      "['Kurt DeltVideo | Scouts Report', 'Fort Smith, ARNorthside High School', 'ILB', '', 'NR', 'Signed']\n",
      "['Marquette WilliamsVideo | Scouts Report', 'West Memphis, ARWest Memphis High School', 'CB', '', 'NR', 'Committed']\n",
      "['Rudy HarrellVideo | Scouts Report', 'Monticello, ARMonticello High School', 'DT', '', 'NR', 'Signed']\n",
      "['Brian SheffieldVideo | Scouts Report', 'Plano, TXPlano Senior High School', 'K', '', 'NR', 'Signed']\n"
     ]
    }
   ],
   "source": [
    "table = table[0]\n",
    "table\n",
    "for row in table.findAll('tr'):\n",
    "    new_row = []\n",
    "    \n",
    "    for cell in row.findAll('td'):\n",
    "        new_row.append(cell.get_text().strip())\n",
    "    print(new_row)"
   ]
  },
  {
   "cell_type": "code",
   "execution_count": null,
   "metadata": {},
   "outputs": [],
   "source": []
  }
 ],
 "metadata": {
  "kernelspec": {
   "display_name": "Python 3",
   "language": "python",
   "name": "python3"
  },
  "language_info": {
   "codemirror_mode": {
    "name": "ipython",
    "version": 3
   },
   "file_extension": ".py",
   "mimetype": "text/x-python",
   "name": "python",
   "nbconvert_exporter": "python",
   "pygments_lexer": "ipython3",
   "version": "3.6.4"
  }
 },
 "nbformat": 4,
 "nbformat_minor": 2
}
