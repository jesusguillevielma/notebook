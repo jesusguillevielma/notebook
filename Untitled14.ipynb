{
 "cells": [
  {
   "cell_type": "code",
   "execution_count": 91,
   "metadata": {},
   "outputs": [],
   "source": [
    "import requests\n"
   ]
  },
  {
   "cell_type": "code",
   "execution_count": 92,
   "metadata": {},
   "outputs": [],
   "source": [
    "from bs4 import BeautifulSoup"
   ]
  },
  {
   "cell_type": "code",
   "execution_count": 93,
   "metadata": {},
   "outputs": [
    {
     "data": {
      "text/plain": [
       "<Response [200]>"
      ]
     },
     "execution_count": 93,
     "metadata": {},
     "output_type": "execute_result"
    }
   ],
   "source": [
    "page = requests.get('https://www.basketball-reference.com/boxscores/200112100LAC.html')\n",
    "page"
   ]
  },
  {
   "cell_type": "code",
   "execution_count": 94,
   "metadata": {},
   "outputs": [],
   "source": [
    "soup = BeautifulSoup(page.text,'html.parser')"
   ]
  },
  {
   "cell_type": "code",
   "execution_count": 95,
   "metadata": {},
   "outputs": [],
   "source": [
    "table = soup.findAll('table')"
   ]
  },
  {
   "cell_type": "code",
   "execution_count": 96,
   "metadata": {},
   "outputs": [
    {
     "name": "stdout",
     "output_type": "stream",
     "text": [
      "[]\n",
      "[]\n",
      "['43:00', '.609', '.563', '.125', '.469', '5.0', '27.9', '15.2', '27.9', '0.0', '1.9', '4.9', '43.1', '128', '116']\n",
      "['41:00', '.304', '.281', '.438', '.063', '5.2', '6.5', '5.8', '0.0', '0.0', '2.0', '19.6', '22.7', '59', '120']\n",
      "['39:00', '.815', '.714', '.429', '.714', '8.2', '17.1', '12.2', '24.6', '2.8', '0.0', '17.9', '13.1', '152', '113']\n",
      "['32:00', '.556', '.556', '.000', '.000', '16.7', '20.8', '18.5', '10.9', '0.0', '2.5', '10.0', '14.3', '123', '117']\n",
      "['13:00', '.000', '.000', '.000', '.000', '0.0', '20.5', '9.1', '0.0', '4.3', '12.3', '0.0', '7.0', '0', '98']\n",
      "[]\n",
      "['24:00', '.286', '.286', '.429', '.000', '0.0', '0.0', '0.0', '6.5', '2.3', '0.0', '0.0', '13.3', '73', '118']\n",
      "['16:00', '.500', '.500', '.000', '.000', '0.0', '16.7', '7.4', '34.6', '0.0', '0.0', '0.0', '17.1', '123', '120']\n",
      "['11:00', '.000', '.000', '.000', '.000', '0.0', '24.2', '10.8', '12.5', '0.0', '0.0', '0.0', '16.6', '15', '118']\n",
      "['9:00', '.000', '.000', '.000', '.000', '0.0', '14.8', '6.6', '0.0', '0.0', '0.0', '0.0', '5.1', '0', '120']\n",
      "['7:00', '.000', '.000', '.000', '.000', '15.2', '0.0', '8.5', '0.0', '0.0', '0.0', '0.0', '13.0', '34', '123']\n",
      "['5:00', '.000', '.000', '.000', '.000', '21.3', '0.0', '11.9', '0.0', '11.1', '0.0', '0.0', '9.1', '58', '99']\n",
      "['240', '.478', '.431', '.195', '.241', '31.1', '77.8', '51.9', '48.6', '5.8', '8.3', '8.6', '100.0', '106.2', '115.5']\n"
     ]
    }
   ],
   "source": [
    "table = table[1]\n",
    "table\n",
    "for row in table.findAll('tr'):\n",
    "    new_row= []\n",
    "    for cell in row.findAll('td'):\n",
    "        new_row.append(cell.get_text().strip())\n",
    "    print(new_row)"
   ]
  },
  {
   "cell_type": "code",
   "execution_count": null,
   "metadata": {},
   "outputs": [],
   "source": []
  },
  {
   "cell_type": "code",
   "execution_count": null,
   "metadata": {},
   "outputs": [],
   "source": []
  }
 ],
 "metadata": {
  "kernelspec": {
   "display_name": "Python 3",
   "language": "python",
   "name": "python3"
  },
  "language_info": {
   "codemirror_mode": {
    "name": "ipython",
    "version": 3
   },
   "file_extension": ".py",
   "mimetype": "text/x-python",
   "name": "python",
   "nbconvert_exporter": "python",
   "pygments_lexer": "ipython3",
   "version": "3.6.4"
  }
 },
 "nbformat": 4,
 "nbformat_minor": 2
}
