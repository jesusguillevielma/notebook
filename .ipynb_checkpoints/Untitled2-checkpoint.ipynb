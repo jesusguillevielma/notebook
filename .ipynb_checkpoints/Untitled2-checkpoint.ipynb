{
 "cells": [
  {
   "cell_type": "code",
   "execution_count": 16,
   "metadata": {},
   "outputs": [],
   "source": [
    "import smtplib"
   ]
  },
  {
   "cell_type": "code",
   "execution_count": 17,
   "metadata": {},
   "outputs": [
    {
     "data": {
      "text/plain": [
       "(221, b'2.0.0 closing connection k4-v6sm13728438wrv.4 - gsmtp')"
      ]
     },
     "execution_count": 17,
     "metadata": {},
     "output_type": "execute_result"
    }
   ],
   "source": [
    "server = smtplib.SMTP('smtp.gmail.com',587)\n",
    "server.starttls()\n",
    "server.login('jesusgvielma@gmail.com','Eudy1234')\n",
    "message = 'Python'\n",
    "server.sendmail('jesusgvielma@gmail.com','jesusgvielma@gmail.com', message)\n",
    "server.quit()"
   ]
  },
  {
   "cell_type": "code",
   "execution_count": 21,
   "metadata": {},
   "outputs": [
    {
     "name": "stdout",
     "output_type": "stream",
     "text": [
      "email failed to send\n"
     ]
    }
   ],
   "source": [
    "def send_email_to(EMAIL_ADDRESS_TO):\n",
    "    try:\n",
    "        server = smtplib.SMTP('smtp.gmail.com',587)\n",
    "        server.starttls()\n",
    "        server.login('EMAIL_ADDRESS','PASSWORD')\n",
    "        message = 'Hola'\n",
    "        server.sendmail('EMAIL_ADDRESS',EMAIL_ADDRESS_TO, message)\n",
    "        server.quit()\n",
    "        print('Success email sent')\n",
    "    except:\n",
    "        print(\"email failed to send\")\n",
    "        \n",
    "send_email_to()\n"
   ]
  },
  {
   "cell_type": "code",
   "execution_count": null,
   "metadata": {},
   "outputs": [],
   "source": []
  }
 ],
 "metadata": {
  "kernelspec": {
   "display_name": "Python 3",
   "language": "python",
   "name": "python3"
  },
  "language_info": {
   "codemirror_mode": {
    "name": "ipython",
    "version": 3
   },
   "file_extension": ".py",
   "mimetype": "text/x-python",
   "name": "python",
   "nbconvert_exporter": "python",
   "pygments_lexer": "ipython3",
   "version": "3.6.4"
  }
 },
 "nbformat": 4,
 "nbformat_minor": 2
}
