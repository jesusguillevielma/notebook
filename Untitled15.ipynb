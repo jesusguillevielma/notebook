{
 "cells": [
  {
   "cell_type": "code",
   "execution_count": 14,
   "metadata": {},
   "outputs": [],
   "source": [
    "import requests"
   ]
  },
  {
   "cell_type": "code",
   "execution_count": 15,
   "metadata": {},
   "outputs": [],
   "source": [
    "from bs4 import BeautifulSoup"
   ]
  },
  {
   "cell_type": "code",
   "execution_count": 16,
   "metadata": {},
   "outputs": [
    {
     "data": {
      "text/plain": [
       "<Response [200]>"
      ]
     },
     "execution_count": 16,
     "metadata": {},
     "output_type": "execute_result"
    }
   ],
   "source": [
    "page = requests.get('https://en.wikipedia.org/wiki/International_Phonetic_Alphabet_chart_for_English_dialects')\n",
    "page"
   ]
  },
  {
   "cell_type": "code",
   "execution_count": 17,
   "metadata": {},
   "outputs": [],
   "source": [
    "soup = BeautifulSoup(page.text,'html.parser')"
   ]
  },
  {
   "cell_type": "code",
   "execution_count": 18,
   "metadata": {},
   "outputs": [],
   "source": [
    "table = soup.findAll('table')"
   ]
  },
  {
   "cell_type": "code",
   "execution_count": 19,
   "metadata": {},
   "outputs": [
    {
     "name": "stdout",
     "output_type": "stream",
     "text": [
      "['Dia-phoneme[1]']\n",
      "['p', 'pʰ, p\\n', 'pen, spin, tip\\n']\n",
      "['b', 'b, b̥\\n', 'but, web\\n']\n",
      "['t', 'tʰ, t, ɾ, ʔ[2]\\n', 'two, sting, bet\\n']\n",
      "['d', 'd, d̥, ɾ[3]\\n', 'do, daddy, odd\\n']\n",
      "['tʃ', 't͡ʃʰ, t͡ʃ\\n', 'chair, nature, teach\\n']\n",
      "['dʒ', 'd͡ʒ, d͜ʒ̊\\n', 'gin, joy, edge\\n']\n",
      "['k', 'kʰ, k\\n', 'cat, kill, skin, queen, unique, thick\\n']\n",
      "['ɡ', 'ɡ, ɡ̊\\n', 'go, get, beg\\n']\n",
      "['f', 'f\\n', 'fool, enough, leaf, off, photo\\n']\n",
      "['v', 'v, v̥\\n', 'voice, have, of\\n']\n",
      "['θ', 'θ, t̪[4]\\n', 'thing, teeth\\n']\n",
      "['ð', 'ð, ð̥, d̪[5]\\n', 'this, breathe, father\\n']\n",
      "['s', 's\\n', 'see, city, pass\\n']\n",
      "['z', 'z, z̥\\n', 'zoo, rose\\n']\n",
      "['ʃ', 'ʃ\\n', 'she, sure, session, emotion, leash\\n']\n",
      "['ʒ', 'ʒ, ʒ̊\\n', 'genre, pleasure, beige, equation, seizure\\n']\n",
      "['h', 'h, ɦ,[6] ç[7]\\n', 'ham, hue\\n']\n",
      "['m', 'm, ɱ[8]\\n', 'man, ham\\n']\n",
      "['n', 'n\\n', 'no, tin\\n']\n",
      "['ŋ', 'ŋ\\n', 'ringer, sing,[9] finger, drink\\n']\n",
      "['l', 'l, ɫ,[10] l̥, ɫ̥,[11] ɤ[12] w, o, ʊ[13]\\n', 'left, bell, sable, please\\n']\n",
      "['r', 'ɹʷ, ɹ, ɾ,[14] ɻ, ɹ̥ʷ, ɹ̥, ɾ̥, ɻ̊,[11] ʋ[15]\\n', 'run, very, probably\\n']\n",
      "['w', 'w, w̥[11]\\n', 'we, queen\\n']\n",
      "['j', 'j\\n', 'yes, nyala\\n']\n",
      "['hw', 'ʍ, w[16]\\n', 'what\\n']\n",
      "['Marginal consonants']\n",
      "['x', 'x, χ, k, kʰ, h, ɦ, ç\\n', 'loch (Scottish),[17] ugh[18]\\n']\n",
      "['ʔ', 'ʔ\\n', 'uh-oh\\n']\n"
     ]
    }
   ],
   "source": [
    "table = table[4]\n",
    "table\n",
    "for row in table.findAll('tr'):\n",
    "    new_row= []\n",
    "    new_row.append(row(\"th\")[0].get_text().strip())\n",
    "    for cell in row.findAll('td'):\n",
    "        new_row.append(cell.get_text())\n",
    "    print(new_row)\n",
    "    \n",
    "        "
   ]
  },
  {
   "cell_type": "code",
   "execution_count": null,
   "metadata": {},
   "outputs": [],
   "source": []
  },
  {
   "cell_type": "code",
   "execution_count": null,
   "metadata": {},
   "outputs": [],
   "source": []
  }
 ],
 "metadata": {
  "kernelspec": {
   "display_name": "Python 3",
   "language": "python",
   "name": "python3"
  },
  "language_info": {
   "codemirror_mode": {
    "name": "ipython",
    "version": 3
   },
   "file_extension": ".py",
   "mimetype": "text/x-python",
   "name": "python",
   "nbconvert_exporter": "python",
   "pygments_lexer": "ipython3",
   "version": "3.6.4"
  }
 },
 "nbformat": 4,
 "nbformat_minor": 2
}
