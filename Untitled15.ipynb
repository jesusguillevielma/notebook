{
 "cells": [
  {
   "cell_type": "code",
   "execution_count": 85,
   "metadata": {},
   "outputs": [],
   "source": [
    "import requests"
   ]
  },
  {
   "cell_type": "code",
   "execution_count": 86,
   "metadata": {},
   "outputs": [],
   "source": [
    "from bs4 import BeautifulSoup"
   ]
  },
  {
   "cell_type": "code",
   "execution_count": 87,
   "metadata": {},
   "outputs": [
    {
     "data": {
      "text/plain": [
       "<Response [200]>"
      ]
     },
     "execution_count": 87,
     "metadata": {},
     "output_type": "execute_result"
    }
   ],
   "source": [
    "page = requests.get('https://en.wikipedia.org/wiki/International_Phonetic_Alphabet_chart_for_English_dialects')\n",
    "page"
   ]
  },
  {
   "cell_type": "code",
   "execution_count": 88,
   "metadata": {},
   "outputs": [],
   "source": [
    "soup = BeautifulSoup(page.text,'html.parser')"
   ]
  },
  {
   "cell_type": "code",
   "execution_count": 89,
   "metadata": {},
   "outputs": [],
   "source": [
    "table = soup.findAll('table')"
   ]
  },
  {
   "cell_type": "code",
   "execution_count": 90,
   "metadata": {},
   "outputs": [
    {
     "name": "stdout",
     "output_type": "stream",
     "text": [
      "['Dia-phoneme[1]']\n",
      "['p', 'pʰ, p', 'pen, spin, tip']\n",
      "['b', 'b, b̥', 'but, web']\n",
      "['t', 'tʰ, t, ɾ, ʔ[2]', 'two, sting, bet']\n",
      "['d', 'd, d̥, ɾ[3]', 'do, daddy, odd']\n",
      "['tʃ', 't͡ʃʰ, t͡ʃ', 'chair, nature, teach']\n",
      "['dʒ', 'd͡ʒ, d͜ʒ̊', 'gin, joy, edge']\n",
      "['k', 'kʰ, k', 'cat, kill, skin, queen, unique, thick']\n",
      "['ɡ', 'ɡ, ɡ̊', 'go, get, beg']\n",
      "['f', 'f', 'fool, enough, leaf, off, photo']\n",
      "['v', 'v, v̥', 'voice, have, of']\n",
      "['θ', 'θ, t̪[4]', 'thing, teeth']\n",
      "['ð', 'ð, ð̥, d̪[5]', 'this, breathe, father']\n",
      "['s', 's', 'see, city, pass']\n",
      "['z', 'z, z̥', 'zoo, rose']\n",
      "['ʃ', 'ʃ', 'she, sure, session, emotion, leash']\n",
      "['ʒ', 'ʒ, ʒ̊', 'genre, pleasure, beige, equation, seizure']\n",
      "['h', 'h, ɦ,[6] ç[7]', 'ham, hue']\n",
      "['m', 'm, ɱ[8]', 'man, ham']\n",
      "['n', 'n', 'no, tin']\n",
      "['ŋ', 'ŋ', 'ringer, sing,[9] finger, drink']\n",
      "['l', 'l, ɫ,[10] l̥, ɫ̥,[11] ɤ[12] w, o, ʊ[13]', 'left, bell, sable, please']\n",
      "['r', 'ɹʷ, ɹ, ɾ,[14] ɻ, ɹ̥ʷ, ɹ̥, ɾ̥, ɻ̊,[11] ʋ[15]', 'run, very, probably']\n",
      "['w', 'w, w̥[11]', 'we, queen']\n",
      "['j', 'j', 'yes, nyala']\n",
      "['hw', 'ʍ, w[16]', 'what']\n",
      "['Marginal consonants']\n",
      "['x', 'x, χ, k, kʰ, h, ɦ, ç', 'loch (Scottish),[17] ugh[18]']\n",
      "['ʔ', 'ʔ', 'uh-oh']\n"
     ]
    }
   ],
   "source": [
    "table = table[5]\n",
    "table\n",
    "for row in table.findAll('tr'):\n",
    "    new_row= []\n",
    "    new_row.append(row(\"th\")[0].get_text().strip())\n",
    "    for cell in row.findAll('td'):\n",
    "        new_row.append(cell.get_text().strip())\n",
    "    print(new_row)\n",
    "    \n",
    "        "
   ]
  },
  {
   "cell_type": "code",
   "execution_count": null,
   "metadata": {},
   "outputs": [],
   "source": []
  },
  {
   "cell_type": "code",
   "execution_count": null,
   "metadata": {},
   "outputs": [],
   "source": []
  }
 ],
 "metadata": {
  "kernelspec": {
   "display_name": "Python 3",
   "language": "python",
   "name": "python3"
  },
  "language_info": {
   "codemirror_mode": {
    "name": "ipython",
    "version": 3
   },
   "file_extension": ".py",
   "mimetype": "text/x-python",
   "name": "python",
   "nbconvert_exporter": "python",
   "pygments_lexer": "ipython3",
   "version": "3.6.4"
  }
 },
 "nbformat": 4,
 "nbformat_minor": 2
}
