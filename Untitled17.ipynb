{
 "cells": [
  {
   "cell_type": "code",
   "execution_count": 28,
   "metadata": {},
   "outputs": [],
   "source": [
    "import requests\n",
    "from bs4 import BeautifulSoup "
   ]
  },
  {
   "cell_type": "code",
   "execution_count": 29,
   "metadata": {},
   "outputs": [
    {
     "data": {
      "text/plain": [
       "<Response [200]>"
      ]
     },
     "execution_count": 29,
     "metadata": {},
     "output_type": "execute_result"
    }
   ],
   "source": [
    "page = requests.get('https://en.wikipedia.org/wiki/List_of_countries_by_the_number_of_billionaires')\n",
    "page"
   ]
  },
  {
   "cell_type": "code",
   "execution_count": 30,
   "metadata": {},
   "outputs": [],
   "source": [
    "soup = BeautifulSoup(page.text,'html.parser')"
   ]
  },
  {
   "cell_type": "code",
   "execution_count": 31,
   "metadata": {},
   "outputs": [],
   "source": [
    "table = soup.findAll('table')"
   ]
  },
  {
   "cell_type": "code",
   "execution_count": 32,
   "metadata": {},
   "outputs": [
    {
     "name": "stdout",
     "output_type": "stream",
     "text": [
      "[]\n",
      "['1', 'China', '819[3]', 'Ma Huateng', '51.1 (2018)']\n",
      "['2', 'United States', '585', 'Jeff Bezos', '132.8 (2018)']\n",
      "['3', 'India[4]', '131', 'Mukesh Ambani', '40.5 (2018)']\n",
      "['4', 'Germany', '114', 'Beate Heister and Karl Albrecht Jr.', '31.1 (2017)']\n",
      "['5', 'Russia', '96', 'Leonid Mikhelson', '18.4  (2017)']\n",
      "['6', 'Hong Kong', '67', 'Li Ka-shing', '37.7 (2018)']\n",
      "['7', 'United Kingdom', '54', 'Hinduja family', '19.8 (2018)']\n",
      "['8', 'Brazil', '43', 'Jorge Paulo Lemann', '29.7 (2018)']\n",
      "['9', 'Italy', '42', 'Maria Franca Fissolo', '28 (2018)']\n",
      "['10', 'Canada', '39', 'David Thomson', '27.2 (2017)']\n",
      "['11', 'France', '38', 'Bernard Arnault', '83.5 (2018)']\n",
      "['South Korea', '38', 'Lee Kun-hee', '20.6 (2018)']\n",
      "['13', 'Switzerland', '36', 'Ernesto Bertarelli', '9 (2017)']\n",
      "['14', 'Australia', '33', 'Gina Rinehart', '17.40 (2018)']\n",
      "['Japan', '33', 'Masayoshi Son', '23 (2018)']\n",
      "['16', 'Sweden', '31', 'Stefan Persson', '18.9 (2017)']\n",
      "['Taiwan', '31', 'Terry Gou', '10.6 (2017)']\n",
      "['18', 'Turkey', '29', 'Murat Ülker', '3.9 (2017)']\n",
      "['19', 'Spain', '25', 'Amancio Ortega', '68.4 (2018)']\n",
      "['20', 'Singapore', '21', 'Robert and Philip Ng', '9.7 (2017)']\n",
      "['21', 'Indonesia', '20', 'Robert Budi Hartono', '12.6 (2018)']\n",
      "['Thailand', '20', 'Charoen Sirivadhanabhakdi', '19.9 (2018)']\n",
      "['23', 'Israel', '18', 'Eyal Ofer', '9.7 (2018)']\n",
      "['24', 'Mexico', '15', 'Carlos Slim Helú', '70.5 (2018)']\n",
      "['25', 'Philippines', '14', 'Henry Sy', '19.8 (2018)']\n",
      "['Norway', '14', 'Odd Reitan', '4.19 (2017)']\n",
      "['27', 'Chile', '12', 'Iris Fontbona', '16.3 (2018)']\n",
      "['Malaysia', '12', 'Robert Kuok', '15.4 (2018)']\n",
      "['29', 'Netherlands', '10', 'Charlene de Carvalho-Heineken', '16.1 (2018)']\n",
      "['Saudi Arabia', '10', 'Prince Alwaleed Bin Talal Alsaud', '18.7']\n",
      "['31', 'Austria', '8', 'Dietrich Mateschitz', '21.2 (2018)']\n",
      "['Ireland', '8', 'Pallonji Mistry', '18.7 (2018)']\n",
      "['South Africa', '8', 'Nicky Oppenheimer', '7 (2017)']\n",
      "['34', 'Argentina', '7', 'Alejandro Bulgheroni', '3.5 (2017)']\n",
      "['Egypt', '7', 'Nassef Sawiris', '5.3 (2016)']\n",
      "['Finland', '7', 'Antti Herlin', '4.2 (2016)']\n",
      "['UAE', '7', 'Al Ghurair Family', '5.9 (2018)']\n",
      "['37', 'Cyprus', '6', 'John Fredriksen', '7.4 (2018)']\n",
      "['Czech Republic', '6', 'Petr Kellner', '11.4']\n",
      "['Denmark', '6', 'Kjeld Kirk Kristiansen', '5.5 (2018)']\n",
      "['Ukraine', '6', 'Rinat Akhmetov', '4.5']\n",
      "['41', 'Kazakhstan', '5', 'Bulat Utemuratov', '2.3 (2015)']\n",
      "['Peru', '5', 'Carlos Rodriguez-Pastor', '2.6 (2017)']\n",
      "['43', 'Greece', '4', 'Spiros Latsis', '3.2 (2018)']\n",
      "['Kuwait', '4', 'Bassam and Kutayba Alghanim', '1.4 (2018)']\n",
      "['Lebanon', '4', 'Najib and Taha Mikati', '2.7 (2018)']\n",
      "['Monaco', '4', 'Tatiana Casiraghi', '2.3 (2017)']\n",
      "['Poland', '4', 'Dominika and Sebastian Kulczyk', '3.8 (2018)']\n",
      "['Portugal', '4', 'Américo Amorim', '4.8 (2017)']\n",
      "['Vietnam', '4', 'Pham Nhat Vuong', '6.9 (2018)']\n",
      "['49', 'Colombia', '3', 'Luis Carlos Sarmiento', '11.3 (2017)']\n",
      "['Morocco', '3', 'Othman Benjelloun', '1.67 (2018)']\n",
      "['Nigeria', '3', 'Aliko Dangote', '14.1 (2018)']\n",
      "['Oman', '3', 'Suhail Bahwan', '3.4 (2018)']\n",
      "['54', 'Belgium', '2', 'Albert Frère', '5.2 (2017)']\n",
      "['New Zealand', '2', 'Graeme Hart', '10.3 (2018)']\n",
      "['St. Kitts & Nevis', '2', 'Wu Xu', '1.6 (2018)']\n",
      "['Venezuela', '2', 'Juan Carlos Escotet', '4.4 (2018)']\n",
      "['59', 'Algeria', '1', 'Issad Rebrab', '4.31 (2017)']\n",
      "['Angola', '1', 'Isabel dos Santos', '3.5 (2017)']\n",
      "['Bangladesh', '1', 'Salman F Rahman', '8.5 (2018)']\n",
      "['Georgia', '1', 'Bidzina Ivanishvili', '4.5 (2017)']\n",
      "['Guernsey', '1', 'Stephen Lansdown', '2.4 (2018)']\n",
      "['Hungary', '1', 'Sandor Csanyi', '1.14 (2018)']\n",
      "['Iceland', '1', 'Thor Björgólfsson', '1.99 (2018)']\n",
      "['Jordan', '1', 'Ziyad Manasir', '1.1 (2015)']\n",
      "['Liechtenstein', '1', 'Christoph Zeller', '2.5 (2016)']\n",
      "['Macau', '1', 'Hoi Kin Hong', '1.58 (2018)']\n",
      "['Nepal', '1', 'Binod Chaudhary', '1.5 (2018)']\n",
      "['Romania', '1', 'Ion Țiriac', '1.19 (2018)']\n",
      "['Slovakia', '1', 'Ivan Chrenko', '1.31 (2018)']\n",
      "['Swaziland', '1', 'Nathan Kirsh', '3.9 (2017)']\n",
      "['Tanzania', '1', 'Mohammed Dewji', '1.52 (2018)']\n",
      "['Zimbabwe', '1', 'Strive Masiyiwa', '1.65 (2018)']\n"
     ]
    }
   ],
   "source": [
    "table = table[4]\n",
    "table\n",
    "for row in table.findAll('tr'):\n",
    "    new_row = []\n",
    "    \n",
    "    for cell in row.findAll('td'):\n",
    "        new_row.append(cell.get_text().strip())\n",
    "    print(new_row)"
   ]
  },
  {
   "cell_type": "code",
   "execution_count": null,
   "metadata": {},
   "outputs": [],
   "source": []
  }
 ],
 "metadata": {
  "kernelspec": {
   "display_name": "Python 3",
   "language": "python",
   "name": "python3"
  },
  "language_info": {
   "codemirror_mode": {
    "name": "ipython",
    "version": 3
   },
   "file_extension": ".py",
   "mimetype": "text/x-python",
   "name": "python",
   "nbconvert_exporter": "python",
   "pygments_lexer": "ipython3",
   "version": "3.6.4"
  }
 },
 "nbformat": 4,
 "nbformat_minor": 2
}
